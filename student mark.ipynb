{
 "cells": [
  {
   "cell_type": "code",
   "execution_count": 1,
   "metadata": {},
   "outputs": [],
   "source": [
    "import pandas as pd\n",
    "import seaborn as sns\n",
    "import numpy as np\n",
    "import matplotlib.pyplot as plt\n",
    "from statsmodels.stats.outliers_influence import variance_inflation_factor\n",
    "\n",
    "from scipy.stats import shapiro,pearsonr\n",
    "\n",
    "from sklearn.preprocessing import MinMaxScaler\n",
    "from sklearn.linear_model import LinearRegression\n",
    "from sklearn.model_selection import train_test_split\n",
    "from sklearn.metrics import *"
   ]
  },
  {
   "cell_type": "code",
   "execution_count": 2,
   "metadata": {},
   "outputs": [],
   "source": [
    "# reading the dataset\n",
    "df=pd.read_csv(r\"C:\\Users\\Saravanan\\Desktop\\house.csv\")"
   ]
  },
  {
   "cell_type": "code",
   "execution_count": 3,
   "metadata": {},
   "outputs": [
    {
     "data": {
      "text/html": [
       "<div>\n",
       "<style scoped>\n",
       "    .dataframe tbody tr th:only-of-type {\n",
       "        vertical-align: middle;\n",
       "    }\n",
       "\n",
       "    .dataframe tbody tr th {\n",
       "        vertical-align: top;\n",
       "    }\n",
       "\n",
       "    .dataframe thead th {\n",
       "        text-align: right;\n",
       "    }\n",
       "</style>\n",
       "<table border=\"1\" class=\"dataframe\">\n",
       "  <thead>\n",
       "    <tr style=\"text-align: right;\">\n",
       "      <th></th>\n",
       "      <th>area</th>\n",
       "      <th>price</th>\n",
       "    </tr>\n",
       "  </thead>\n",
       "  <tbody>\n",
       "    <tr>\n",
       "      <th>0</th>\n",
       "      <td>8450</td>\n",
       "      <td>208500</td>\n",
       "    </tr>\n",
       "    <tr>\n",
       "      <th>1</th>\n",
       "      <td>9600</td>\n",
       "      <td>181500</td>\n",
       "    </tr>\n",
       "    <tr>\n",
       "      <th>2</th>\n",
       "      <td>11250</td>\n",
       "      <td>223500</td>\n",
       "    </tr>\n",
       "    <tr>\n",
       "      <th>3</th>\n",
       "      <td>9550</td>\n",
       "      <td>140000</td>\n",
       "    </tr>\n",
       "    <tr>\n",
       "      <th>4</th>\n",
       "      <td>14260</td>\n",
       "      <td>250000</td>\n",
       "    </tr>\n",
       "  </tbody>\n",
       "</table>\n",
       "</div>"
      ],
      "text/plain": [
       "    area   price\n",
       "0   8450  208500\n",
       "1   9600  181500\n",
       "2  11250  223500\n",
       "3   9550  140000\n",
       "4  14260  250000"
      ]
     },
     "execution_count": 3,
     "metadata": {},
     "output_type": "execute_result"
    }
   ],
   "source": [
    "df.head()"
   ]
  },
  {
   "cell_type": "code",
   "execution_count": 4,
   "metadata": {},
   "outputs": [
    {
     "name": "stdout",
     "output_type": "stream",
     "text": [
      "<class 'pandas.core.frame.DataFrame'>\n",
      "RangeIndex: 1460 entries, 0 to 1459\n",
      "Data columns (total 2 columns):\n",
      " #   Column  Non-Null Count  Dtype\n",
      "---  ------  --------------  -----\n",
      " 0   area    1460 non-null   int64\n",
      " 1   price   1460 non-null   int64\n",
      "dtypes: int64(2)\n",
      "memory usage: 22.9 KB\n"
     ]
    }
   ],
   "source": [
    "# finding datatypes and total records\n",
    "df.info() \n"
   ]
  },
  {
   "attachments": {},
   "cell_type": "markdown",
   "metadata": {},
   "source": [
    "there are two columnthat are numericals\n",
    " "
   ]
  },
  {
   "cell_type": "code",
   "execution_count": 5,
   "metadata": {},
   "outputs": [
    {
     "data": {
      "text/html": [
       "<style type=\"text/css\">\n",
       "#T_07bdf_row0_col0, #T_07bdf_row0_col1, #T_07bdf_row3_col0 {\n",
       "  background-color: #000000;\n",
       "  color: #f1f1f1;\n",
       "}\n",
       "#T_07bdf_row1_col0, #T_07bdf_row3_col1 {\n",
       "  background-color: #0e0905;\n",
       "  color: #f1f1f1;\n",
       "}\n",
       "#T_07bdf_row1_col1 {\n",
       "  background-color: #4a2f1e;\n",
       "  color: #f1f1f1;\n",
       "}\n",
       "#T_07bdf_row2_col0 {\n",
       "  background-color: #0c0805;\n",
       "  color: #f1f1f1;\n",
       "}\n",
       "#T_07bdf_row2_col1 {\n",
       "  background-color: #20140d;\n",
       "  color: #f1f1f1;\n",
       "}\n",
       "#T_07bdf_row4_col0 {\n",
       "  background-color: #090503;\n",
       "  color: #f1f1f1;\n",
       "}\n",
       "#T_07bdf_row4_col1 {\n",
       "  background-color: #352215;\n",
       "  color: #f1f1f1;\n",
       "}\n",
       "#T_07bdf_row5_col0 {\n",
       "  background-color: #0b0704;\n",
       "  color: #f1f1f1;\n",
       "}\n",
       "#T_07bdf_row5_col1 {\n",
       "  background-color: #432a1b;\n",
       "  color: #f1f1f1;\n",
       "}\n",
       "#T_07bdf_row6_col0 {\n",
       "  background-color: #0f0906;\n",
       "  color: #f1f1f1;\n",
       "}\n",
       "#T_07bdf_row6_col1 {\n",
       "  background-color: #593824;\n",
       "  color: #f1f1f1;\n",
       "}\n",
       "#T_07bdf_row7_col0, #T_07bdf_row7_col1 {\n",
       "  background-color: #ffc77f;\n",
       "  color: #000000;\n",
       "}\n",
       "</style>\n",
       "<table id=\"T_07bdf\">\n",
       "  <thead>\n",
       "    <tr>\n",
       "      <th class=\"blank level0\" >&nbsp;</th>\n",
       "      <th id=\"T_07bdf_level0_col0\" class=\"col_heading level0 col0\" >area</th>\n",
       "      <th id=\"T_07bdf_level0_col1\" class=\"col_heading level0 col1\" >price</th>\n",
       "    </tr>\n",
       "  </thead>\n",
       "  <tbody>\n",
       "    <tr>\n",
       "      <th id=\"T_07bdf_level0_row0\" class=\"row_heading level0 row0\" >count</th>\n",
       "      <td id=\"T_07bdf_row0_col0\" class=\"data row0 col0\" >1460.000000</td>\n",
       "      <td id=\"T_07bdf_row0_col1\" class=\"data row0 col1\" >1460.000000</td>\n",
       "    </tr>\n",
       "    <tr>\n",
       "      <th id=\"T_07bdf_level0_row1\" class=\"row_heading level0 row1\" >mean</th>\n",
       "      <td id=\"T_07bdf_row1_col0\" class=\"data row1 col0\" >10516.828082</td>\n",
       "      <td id=\"T_07bdf_row1_col1\" class=\"data row1 col1\" >180921.195890</td>\n",
       "    </tr>\n",
       "    <tr>\n",
       "      <th id=\"T_07bdf_level0_row2\" class=\"row_heading level0 row2\" >std</th>\n",
       "      <td id=\"T_07bdf_row2_col0\" class=\"data row2 col0\" >9981.264932</td>\n",
       "      <td id=\"T_07bdf_row2_col1\" class=\"data row2 col1\" >79442.502883</td>\n",
       "    </tr>\n",
       "    <tr>\n",
       "      <th id=\"T_07bdf_level0_row3\" class=\"row_heading level0 row3\" >min</th>\n",
       "      <td id=\"T_07bdf_row3_col0\" class=\"data row3 col0\" >1300.000000</td>\n",
       "      <td id=\"T_07bdf_row3_col1\" class=\"data row3 col1\" >34900.000000</td>\n",
       "    </tr>\n",
       "    <tr>\n",
       "      <th id=\"T_07bdf_level0_row4\" class=\"row_heading level0 row4\" >25%</th>\n",
       "      <td id=\"T_07bdf_row4_col0\" class=\"data row4 col0\" >7553.500000</td>\n",
       "      <td id=\"T_07bdf_row4_col1\" class=\"data row4 col1\" >129975.000000</td>\n",
       "    </tr>\n",
       "    <tr>\n",
       "      <th id=\"T_07bdf_level0_row5\" class=\"row_heading level0 row5\" >50%</th>\n",
       "      <td id=\"T_07bdf_row5_col0\" class=\"data row5 col0\" >9478.500000</td>\n",
       "      <td id=\"T_07bdf_row5_col1\" class=\"data row5 col1\" >163000.000000</td>\n",
       "    </tr>\n",
       "    <tr>\n",
       "      <th id=\"T_07bdf_level0_row6\" class=\"row_heading level0 row6\" >75%</th>\n",
       "      <td id=\"T_07bdf_row6_col0\" class=\"data row6 col0\" >11601.500000</td>\n",
       "      <td id=\"T_07bdf_row6_col1\" class=\"data row6 col1\" >214000.000000</td>\n",
       "    </tr>\n",
       "    <tr>\n",
       "      <th id=\"T_07bdf_level0_row7\" class=\"row_heading level0 row7\" >max</th>\n",
       "      <td id=\"T_07bdf_row7_col0\" class=\"data row7 col0\" >215245.000000</td>\n",
       "      <td id=\"T_07bdf_row7_col1\" class=\"data row7 col1\" >755000.000000</td>\n",
       "    </tr>\n",
       "  </tbody>\n",
       "</table>\n"
      ],
      "text/plain": [
       "<pandas.io.formats.style.Styler at 0x25aac789400>"
      ]
     },
     "execution_count": 5,
     "metadata": {},
     "output_type": "execute_result"
    }
   ],
   "source": [
    "# checking stats for dataset\n",
    "df.describe().style.background_gradient(cmap=('copper'))"
   ]
  },
  {
   "attachments": {},
   "cell_type": "markdown",
   "metadata": {},
   "source": [
    "Its seems like area will be having outliers but we'll check later\n"
   ]
  },
  {
   "cell_type": "code",
   "execution_count": 7,
   "metadata": {},
   "outputs": [
    {
     "data": {
      "text/plain": [
       "<AxesSubplot:>"
      ]
     },
     "execution_count": 7,
     "metadata": {},
     "output_type": "execute_result"
    },
    {
     "data": {
      "image/png": "[encoded data removed]",
      "text/plain": [
       "<Figure size 432x288 with 2 Axes>"
      ]
     },
     "metadata": {
      "needs_background": "light"
     },
     "output_type": "display_data"
    }
   ],
   "source": [
    "# finding correlation with the target variable to feature variable\n",
    "sns.heatmap(df.corr(),annot=True)"
   ]
  },
  {
   "attachments": {},
   "cell_type": "markdown",
   "metadata": {},
   "source": [
    "student hour is hightly correlated with student mark\n"
   ]
  },
  {
   "cell_type": "code",
   "execution_count": 8,
   "metadata": {},
   "outputs": [
    {
     "data": {
      "text/plain": [
       "area     0\n",
       "price    0\n",
       "dtype: int64"
      ]
     },
     "execution_count": 8,
     "metadata": {},
     "output_type": "execute_result"
    }
   ],
   "source": [
    "#checking null values \n",
    "df.isnull().sum()"
   ]
  },
  {
   "attachments": {},
   "cell_type": "markdown",
   "metadata": {},
   "source": [
    "there is no missing values"
   ]
  },
  {
   "cell_type": "code",
   "execution_count": 9,
   "metadata": {},
   "outputs": [
    {
     "data": {
      "text/plain": [
       "<AxesSubplot:xlabel='area', ylabel='Density'>"
      ]
     },
     "execution_count": 9,
     "metadata": {},
     "output_type": "execute_result"
    },
    {
     "data": {
      "image/png": "[encoded data removed]",
      "text/plain": [
       "<Figure size 432x288 with 1 Axes>"
      ]
     },
     "metadata": {
      "needs_background": "light"
     },
     "output_type": "display_data"
    }
   ],
   "source": [
    "#visualizing for distribution\n",
    "sns.kdeplot(df.area)"
   ]
  },
  {
   "cell_type": "code",
   "execution_count": 10,
   "metadata": {},
   "outputs": [
    {
     "data": {
      "text/plain": [
       "<AxesSubplot:xlabel='price', ylabel='Density'>"
      ]
     },
     "execution_count": 10,
     "metadata": {},
     "output_type": "execute_result"
    },
    {
     "data": {
      "image/png": "[encoded data removed]",
      "text/plain": [
       "<Figure size 432x288 with 1 Axes>"
      ]
     },
     "metadata": {
      "needs_background": "light"
     },
     "output_type": "display_data"
    }
   ],
   "source": [
    "sns.kdeplot(df.price)"
   ]
  },
  {
   "cell_type": "code",
   "execution_count": 11,
   "metadata": {},
   "outputs": [],
   "source": [
    "def dist_check(x):\n",
    "    t_value,p_value=shapiro(x)\n",
    "    if p_value>0.05:\n",
    "        print(\"normally distributed\",\":\",p_value)\n",
    "    else:\n",
    "        print(\"not normally distributed\",\":\",p_value)"
   ]
  },
  {
   "cell_type": "code",
   "execution_count": 12,
   "metadata": {},
   "outputs": [
    {
     "name": "stdout",
     "output_type": "stream",
     "text": [
      "not normally distributed : 0.0\n"
     ]
    }
   ],
   "source": [
    "dist_check(df.area)"
   ]
  },
  {
   "cell_type": "code",
   "execution_count": 13,
   "metadata": {},
   "outputs": [
    {
     "name": "stdout",
     "output_type": "stream",
     "text": [
      "not normally distributed : 3.206247534576162e-33\n"
     ]
    }
   ],
   "source": [
    "dist_check(df.price)"
   ]
  },
  {
   "attachments": {},
   "cell_type": "markdown",
   "metadata": {},
   "source": [
    "We do not have null values in this dataset"
   ]
  },
  {
   "cell_type": "code",
   "execution_count": 14,
   "metadata": {},
   "outputs": [],
   "source": [
    "#checking outliers in the dataset\n",
    "def find_outliers_IQR(df):\n",
    "\n",
    "   q1=df.quantile(0.25)\n",
    "\n",
    "   q3=df.quantile(0.75)\n",
    "\n",
    "   IQR=q3-q1\n",
    "\n",
    "   outliers = df[((df<(q1-1.5*IQR)) | (df>(q3+1.5*IQR)))]\n",
    "\n",
    "   return outliers"
   ]
  },
  {
   "cell_type": "code",
   "execution_count": 22,
   "metadata": {},
   "outputs": [
    {
     "name": "stdout",
     "output_type": "stream",
     "text": [
      "area : Int64Index([  53,   66,  113,  120,  159,  171,  185,  197,  249,  260,  271,\n",
      "             277,  304,  313,  335,  349,  364,  384,  411,  417,  422,  451,\n",
      "             457,  523,  529,  558,  563,  588,  661,  664,  666,  691,  692,\n",
      "             706,  726,  769,  807,  828,  848,  854,  876,  934,  939,  943,\n",
      "             956, 1010, 1039, 1048, 1057, 1061, 1107, 1151, 1169, 1173, 1184,\n",
      "            1190, 1230, 1260, 1270, 1277, 1287, 1298, 1346, 1383, 1396, 1409,\n",
      "            1423, 1430, 1446],\n",
      "           dtype='int64')\n",
      "price : Int64Index([  11,   53,   58,  112,  151,  161,  178,  185,  224,  231,  278,\n",
      "             309,  313,  320,  321,  336,  349,  378,  389,  440,  473,  477,\n",
      "             481,  496,  515,  527,  585,  591,  608,  642,  644,  654,  661,\n",
      "             664,  678,  688,  691,  702,  718,  769,  774,  798,  803,  825,\n",
      "             877,  898,  987,  990, 1046, 1142, 1169, 1181, 1182, 1228, 1243,\n",
      "            1267, 1268, 1353, 1373, 1388, 1437],\n",
      "           dtype='int64')\n"
     ]
    }
   ],
   "source": [
    "out=find_outliers_IQR(df)\n",
    "columns=[\"area\",\"price\"]\n",
    "for i in columns:\n",
    "    cout=out[i].dropna()\n",
    "    print(i,\":\",cout.index)\n"
   ]
  },
  {
   "cell_type": "code",
   "execution_count": 32,
   "metadata": {},
   "outputs": [],
   "source": [
    "df.drop([  11,  58,  112,  151,  161,  178,  224,  231,  278,\n",
    " 309, 320,  321,  336, 378,  389,  440,  473,  477,\n",
    " 481,  496,  515,  527,  585,  591,  608,  642,  644,  654,\n",
    "  678,  688,   702,  718,  774,  798,  803,  825,\n",
    " 877,  898,  987,  990, 1046, 1142, 1181, 1182, 1228, 1243,\n",
    " 1267, 1268, 1353, 1373, 1388, 1437],axis=0,inplace=True)      "
   ]
  },
  {
   "cell_type": "code",
   "execution_count": 33,
   "metadata": {},
   "outputs": [
    {
     "data": {
      "text/plain": [
       "(1339, 2)"
      ]
     },
     "execution_count": 33,
     "metadata": {},
     "output_type": "execute_result"
    }
   ],
   "source": [
    "df.shape"
   ]
  },
  {
   "attachments": {},
   "cell_type": "markdown",
   "metadata": {},
   "source": [
    "there is no outliers in the dataset"
   ]
  },
  {
   "cell_type": "code",
   "execution_count": 35,
   "metadata": {},
   "outputs": [],
   "source": [
    "x=df[[\"area\"]]\n",
    "y=df[[\"price\"]]"
   ]
  },
  {
   "cell_type": "code",
   "execution_count": 36,
   "metadata": {},
   "outputs": [
    {
     "data": {
      "text/plain": [
       "<AxesSubplot:xlabel='area', ylabel='price'>"
      ]
     },
     "execution_count": 36,
     "metadata": {},
     "output_type": "execute_result"
    },
    {
     "data": {
      "image/png": "[encoded data removed]",
      "text/plain": [
       "<Figure size 432x288 with 1 Axes>"
      ]
     },
     "metadata": {
      "needs_background": "light"
     },
     "output_type": "display_data"
    }
   ],
   "source": [
    "sns.scatterplot(data=df,x=\"area\",y=\"price\")"
   ]
  },
  {
   "cell_type": "code",
   "execution_count": 37,
   "metadata": {},
   "outputs": [],
   "source": [
    "# first assumption linearity \n",
    "\n",
    "\n",
    "def test_linearity(dff):\n",
    "    new_df=pd.DataFrame(columns=[\"Feature\",\"Target\",\"pearson_r_value\",\"pvalue\",\"significance\"])\n",
    "    for i in dff.iloc[:,:]:\n",
    "        for j in dff.iloc[:,:]:\n",
    "            p=pearsonr(dff[i],dff[j])\n",
    "            \n",
    "            if p[1]>0.05:\n",
    "                new_df=new_df.append({\"Feature\":i,\"Target\":j,\"pearson_r_value\":p[0],\"pvalue\":p[1],\"significance\":\"Not significant\"},ignore_index=True)\n",
    "            elif p[1]<0.05:\n",
    "                 new_df=new_df.append({\"Feature\":i,\"Target\":j,\"pearson_r_value\":p[0],\"pvalue\":p[1],\"significance\":\"significant\"},ignore_index=True)\n",
    "\n",
    "\n",
    "    return new_df"
   ]
  },
  {
   "attachments": {},
   "cell_type": "markdown",
   "metadata": {},
   "source": [
    "# linearity check"
   ]
  },
  {
   "cell_type": "code",
   "execution_count": 38,
   "metadata": {},
   "outputs": [
    {
     "name": "stderr",
     "output_type": "stream",
     "text": [
      "C:\\Users\\Saravanan\\AppData\\Local\\Temp\\ipykernel_10608\\388016373.py:13: FutureWarning: The frame.append method is deprecated and will be removed from pandas in a future version. Use pandas.concat instead.\n",
      "  new_df=new_df.append({\"Feature\":i,\"Target\":j,\"pearson_r_value\":p[0],\"pvalue\":p[1],\"significance\":\"significant\"},ignore_index=True)\n",
      "C:\\Users\\Saravanan\\AppData\\Local\\Temp\\ipykernel_10608\\388016373.py:13: FutureWarning: The frame.append method is deprecated and will be removed from pandas in a future version. Use pandas.concat instead.\n",
      "  new_df=new_df.append({\"Feature\":i,\"Target\":j,\"pearson_r_value\":p[0],\"pvalue\":p[1],\"significance\":\"significant\"},ignore_index=True)\n",
      "C:\\Users\\Saravanan\\AppData\\Local\\Temp\\ipykernel_10608\\388016373.py:13: FutureWarning: The frame.append method is deprecated and will be removed from pandas in a future version. Use pandas.concat instead.\n",
      "  new_df=new_df.append({\"Feature\":i,\"Target\":j,\"pearson_r_value\":p[0],\"pvalue\":p[1],\"significance\":\"significant\"},ignore_index=True)\n",
      "C:\\Users\\Saravanan\\AppData\\Local\\Temp\\ipykernel_10608\\388016373.py:13: FutureWarning: The frame.append method is deprecated and will be removed from pandas in a future version. Use pandas.concat instead.\n",
      "  new_df=new_df.append({\"Feature\":i,\"Target\":j,\"pearson_r_value\":p[0],\"pvalue\":p[1],\"significance\":\"significant\"},ignore_index=True)\n"
     ]
    },
    {
     "data": {
      "text/html": [
       "<div>\n",
       "<style scoped>\n",
       "    .dataframe tbody tr th:only-of-type {\n",
       "        vertical-align: middle;\n",
       "    }\n",
       "\n",
       "    .dataframe tbody tr th {\n",
       "        vertical-align: top;\n",
       "    }\n",
       "\n",
       "    .dataframe thead th {\n",
       "        text-align: right;\n",
       "    }\n",
       "</style>\n",
       "<table border=\"1\" class=\"dataframe\">\n",
       "  <thead>\n",
       "    <tr style=\"text-align: right;\">\n",
       "      <th></th>\n",
       "      <th>Feature</th>\n",
       "      <th>Target</th>\n",
       "      <th>pearson_r_value</th>\n",
       "      <th>pvalue</th>\n",
       "      <th>significance</th>\n",
       "    </tr>\n",
       "  </thead>\n",
       "  <tbody>\n",
       "    <tr>\n",
       "      <th>0</th>\n",
       "      <td>area</td>\n",
       "      <td>area</td>\n",
       "      <td>1.000000</td>\n",
       "      <td>0.000000e+00</td>\n",
       "      <td>significant</td>\n",
       "    </tr>\n",
       "    <tr>\n",
       "      <th>1</th>\n",
       "      <td>area</td>\n",
       "      <td>price</td>\n",
       "      <td>0.391939</td>\n",
       "      <td>2.102027e-50</td>\n",
       "      <td>significant</td>\n",
       "    </tr>\n",
       "    <tr>\n",
       "      <th>2</th>\n",
       "      <td>price</td>\n",
       "      <td>area</td>\n",
       "      <td>0.391939</td>\n",
       "      <td>2.102027e-50</td>\n",
       "      <td>significant</td>\n",
       "    </tr>\n",
       "    <tr>\n",
       "      <th>3</th>\n",
       "      <td>price</td>\n",
       "      <td>price</td>\n",
       "      <td>1.000000</td>\n",
       "      <td>0.000000e+00</td>\n",
       "      <td>significant</td>\n",
       "    </tr>\n",
       "  </tbody>\n",
       "</table>\n",
       "</div>"
      ],
      "text/plain": [
       "  Feature Target  pearson_r_value        pvalue significance\n",
       "0    area   area         1.000000  0.000000e+00  significant\n",
       "1    area  price         0.391939  2.102027e-50  significant\n",
       "2   price   area         0.391939  2.102027e-50  significant\n",
       "3   price  price         1.000000  0.000000e+00  significant"
      ]
     },
     "execution_count": 38,
     "metadata": {},
     "output_type": "execute_result"
    }
   ],
   "source": [
    "test_linearity(df)"
   ]
  },
  {
   "cell_type": "code",
   "execution_count": 39,
   "metadata": {},
   "outputs": [],
   "source": [
    "norm=MinMaxScaler()"
   ]
  },
  {
   "cell_type": "code",
   "execution_count": 40,
   "metadata": {},
   "outputs": [
    {
     "data": {
      "text/plain": [
       "array([[0.43009889, 0.56899377],\n",
       "       [0.50117429, 0.4804982 ],\n",
       "       [0.60315204, 0.61815798],\n",
       "       ...,\n",
       "       [0.46668727, 0.75909538],\n",
       "       [0.50840544, 0.35144215],\n",
       "       [0.52200247, 0.36905932]])"
      ]
     },
     "execution_count": 40,
     "metadata": {},
     "output_type": "execute_result"
    }
   ],
   "source": [
    "scale=norm.fit_transform(df)\n",
    "scale"
   ]
  },
  {
   "cell_type": "code",
   "execution_count": 41,
   "metadata": {},
   "outputs": [],
   "source": [
    "df=pd.DataFrame(scale,columns=['area','price'])"
   ]
  },
  {
   "cell_type": "code",
   "execution_count": 43,
   "metadata": {},
   "outputs": [],
   "source": [
    "x=df[[\"area\"]]\n",
    "y=df[[\"price\"]]"
   ]
  },
  {
   "cell_type": "code",
   "execution_count": 44,
   "metadata": {},
   "outputs": [
    {
     "data": {
      "text/html": [
       "<div>\n",
       "<style scoped>\n",
       "    .dataframe tbody tr th:only-of-type {\n",
       "        vertical-align: middle;\n",
       "    }\n",
       "\n",
       "    .dataframe tbody tr th {\n",
       "        vertical-align: top;\n",
       "    }\n",
       "\n",
       "    .dataframe thead th {\n",
       "        text-align: right;\n",
       "    }\n",
       "</style>\n",
       "<table border=\"1\" class=\"dataframe\">\n",
       "  <thead>\n",
       "    <tr style=\"text-align: right;\">\n",
       "      <th></th>\n",
       "      <th>area</th>\n",
       "    </tr>\n",
       "  </thead>\n",
       "  <tbody>\n",
       "    <tr>\n",
       "      <th>0</th>\n",
       "      <td>0.430099</td>\n",
       "    </tr>\n",
       "    <tr>\n",
       "      <th>1</th>\n",
       "      <td>0.501174</td>\n",
       "    </tr>\n",
       "    <tr>\n",
       "      <th>2</th>\n",
       "      <td>0.603152</td>\n",
       "    </tr>\n",
       "    <tr>\n",
       "      <th>3</th>\n",
       "      <td>0.498084</td>\n",
       "    </tr>\n",
       "    <tr>\n",
       "      <th>4</th>\n",
       "      <td>0.789184</td>\n",
       "    </tr>\n",
       "    <tr>\n",
       "      <th>...</th>\n",
       "      <td>...</td>\n",
       "    </tr>\n",
       "    <tr>\n",
       "      <th>1334</th>\n",
       "      <td>0.397157</td>\n",
       "    </tr>\n",
       "    <tr>\n",
       "      <th>1335</th>\n",
       "      <td>0.722126</td>\n",
       "    </tr>\n",
       "    <tr>\n",
       "      <th>1336</th>\n",
       "      <td>0.466687</td>\n",
       "    </tr>\n",
       "    <tr>\n",
       "      <th>1337</th>\n",
       "      <td>0.508405</td>\n",
       "    </tr>\n",
       "    <tr>\n",
       "      <th>1338</th>\n",
       "      <td>0.522002</td>\n",
       "    </tr>\n",
       "  </tbody>\n",
       "</table>\n",
       "<p>1339 rows × 1 columns</p>\n",
       "</div>"
      ],
      "text/plain": [
       "          area\n",
       "0     0.430099\n",
       "1     0.501174\n",
       "2     0.603152\n",
       "3     0.498084\n",
       "4     0.789184\n",
       "...        ...\n",
       "1334  0.397157\n",
       "1335  0.722126\n",
       "1336  0.466687\n",
       "1337  0.508405\n",
       "1338  0.522002\n",
       "\n",
       "[1339 rows x 1 columns]"
      ]
     },
     "execution_count": 44,
     "metadata": {},
     "output_type": "execute_result"
    }
   ],
   "source": [
    "x"
   ]
  },
  {
   "cell_type": "code",
   "execution_count": 45,
   "metadata": {},
   "outputs": [],
   "source": [
    "x_train, x_test, y_train, y_test = train_test_split(x, y, test_size=0.2, random_state=42)"
   ]
  },
  {
   "cell_type": "code",
   "execution_count": 46,
   "metadata": {},
   "outputs": [],
   "source": [
    "reg=LinearRegression()"
   ]
  },
  {
   "cell_type": "code",
   "execution_count": 47,
   "metadata": {},
   "outputs": [
    {
     "data": {
      "text/html": [
       "<style>#sk-container-id-1 {color: black;background-color: white;}#sk-container-id-1 pre{padding: 0;}#sk-container-id-1 div.sk-toggleable {background-color: white;}#sk-container-id-1 label.sk-toggleable__label {cursor: pointer;display: block;width: 100%;margin-bottom: 0;padding: 0.3em;box-sizing: border-box;text-align: center;}#sk-container-id-1 label.sk-toggleable__label-arrow:before {content: \"▸\";float: left;margin-right: 0.25em;color: #696969;}#sk-container-id-1 label.sk-toggleable__label-arrow:hover:before {color: black;}#sk-container-id-1 div.sk-estimator:hover label.sk-toggleable__label-arrow:before {color: black;}#sk-container-id-1 div.sk-toggleable__content {max-height: 0;max-width: 0;overflow: hidden;text-align: left;background-color: #f0f8ff;}#sk-container-id-1 div.sk-toggleable__content pre {margin: 0.2em;color: black;border-radius: 0.25em;background-color: #f0f8ff;}#sk-container-id-1 input.sk-toggleable__control:checked~div.sk-toggleable__content {max-height: 200px;max-width: 100%;overflow: auto;}#sk-container-id-1 input.sk-toggleable__control:checked~label.sk-toggleable__label-arrow:before {content: \"▾\";}#sk-container-id-1 div.sk-estimator input.sk-toggleable__control:checked~label.sk-toggleable__label {background-color: #d4ebff;}#sk-container-id-1 div.sk-label input.sk-toggleable__control:checked~label.sk-toggleable__label {background-color: #d4ebff;}#sk-container-id-1 input.sk-hidden--visually {border: 0;clip: rect(1px 1px 1px 1px);clip: rect(1px, 1px, 1px, 1px);height: 1px;margin: -1px;overflow: hidden;padding: 0;position: absolute;width: 1px;}#sk-container-id-1 div.sk-estimator {font-family: monospace;background-color: #f0f8ff;border: 1px dotted black;border-radius: 0.25em;box-sizing: border-box;margin-bottom: 0.5em;}#sk-container-id-1 div.sk-estimator:hover {background-color: #d4ebff;}#sk-container-id-1 div.sk-parallel-item::after {content: \"\";width: 100%;border-bottom: 1px solid gray;flex-grow: 1;}#sk-container-id-1 div.sk-label:hover label.sk-toggleable__label {background-color: #d4ebff;}#sk-container-id-1 div.sk-serial::before {content: \"\";position: absolute;border-left: 1px solid gray;box-sizing: border-box;top: 0;bottom: 0;left: 50%;z-index: 0;}#sk-container-id-1 div.sk-serial {display: flex;flex-direction: column;align-items: center;background-color: white;padding-right: 0.2em;padding-left: 0.2em;position: relative;}#sk-container-id-1 div.sk-item {position: relative;z-index: 1;}#sk-container-id-1 div.sk-parallel {display: flex;align-items: stretch;justify-content: center;background-color: white;position: relative;}#sk-container-id-1 div.sk-item::before, #sk-container-id-1 div.sk-parallel-item::before {content: \"\";position: absolute;border-left: 1px solid gray;box-sizing: border-box;top: 0;bottom: 0;left: 50%;z-index: -1;}#sk-container-id-1 div.sk-parallel-item {display: flex;flex-direction: column;z-index: 1;position: relative;background-color: white;}#sk-container-id-1 div.sk-parallel-item:first-child::after {align-self: flex-end;width: 50%;}#sk-container-id-1 div.sk-parallel-item:last-child::after {align-self: flex-start;width: 50%;}#sk-container-id-1 div.sk-parallel-item:only-child::after {width: 0;}#sk-container-id-1 div.sk-dashed-wrapped {border: 1px dashed gray;margin: 0 0.4em 0.5em 0.4em;box-sizing: border-box;padding-bottom: 0.4em;background-color: white;}#sk-container-id-1 div.sk-label label {font-family: monospace;font-weight: bold;display: inline-block;line-height: 1.2em;}#sk-container-id-1 div.sk-label-container {text-align: center;}#sk-container-id-1 div.sk-container {/* jupyter's `normalize.less` sets `[hidden] { display: none; }` but bootstrap.min.css set `[hidden] { display: none !important; }` so we also need the `!important` here to be able to override the default hidden behavior on the sphinx rendered scikit-learn.org. See: https://github.com/scikit-learn/scikit-learn/issues/21755 */display: inline-block !important;position: relative;}#sk-container-id-1 div.sk-text-repr-fallback {display: none;}</style><div id=\"sk-container-id-1\" class=\"sk-top-container\"><div class=\"sk-text-repr-fallback\"><pre>LinearRegression()</pre><b>In a Jupyter environment, please rerun this cell to show the HTML representation or trust the notebook. <br />On GitHub, the HTML representation is unable to render, please try loading this page with nbviewer.org.</b></div><div class=\"sk-container\" hidden><div class=\"sk-item\"><div class=\"sk-estimator sk-toggleable\"><input class=\"sk-toggleable__control sk-hidden--visually\" id=\"sk-estimator-id-1\" type=\"checkbox\" checked><label for=\"sk-estimator-id-1\" class=\"sk-toggleable__label sk-toggleable__label-arrow\">LinearRegression</label><div class=\"sk-toggleable__content\"><pre>LinearRegression()</pre></div></div></div></div></div>"
      ],
      "text/plain": [
       "LinearRegression()"
      ]
     },
     "execution_count": 47,
     "metadata": {},
     "output_type": "execute_result"
    }
   ],
   "source": [
    "reg.fit(x_train,y_train)"
   ]
  },
  {
   "cell_type": "code",
   "execution_count": 48,
   "metadata": {},
   "outputs": [],
   "source": [
    "y_pred=reg.predict(x_train)\n",
    "y_pred_test=reg.predict(x_test)\n"
   ]
  },
  {
   "cell_type": "code",
   "execution_count": 49,
   "metadata": {},
   "outputs": [
    {
     "name": "stdout",
     "output_type": "stream",
     "text": [
      "0.1507080391955583\n"
     ]
    }
   ],
   "source": [
    "print(r2_score(y_train,y_pred))"
   ]
  },
  {
   "cell_type": "code",
   "execution_count": 50,
   "metadata": {},
   "outputs": [
    {
     "name": "stdout",
     "output_type": "stream",
     "text": [
      "0.16446689877042353\n"
     ]
    }
   ],
   "source": [
    "print(r2_score(y_test,y_pred_test))"
   ]
  },
  {
   "cell_type": "code",
   "execution_count": null,
   "metadata": {},
   "outputs": [],
   "source": []
  }
 ],
 "metadata": {
  "kernelspec": {
   "display_name": "saravananml",
   "language": "python",
   "name": "python3"
  },
  "language_info": {
   "codemirror_mode": {
    "name": "ipython",
    "version": 3
   },
   "file_extension": ".py",
   "mimetype": "text/x-python",
   "name": "python",
   "nbconvert_exporter": "python",
   "pygments_lexer": "ipython3",
   "version": "3.8.13"
  },
  "orig_nbformat": 4,
  "vscode": {
   "interpreter": {
    "hash": "8c4742ecf419e16bef4dd3c27ebf055590c8ef0095d09a6892b29c925d5d4cac"
   }
  }
 },
 "nbformat": 4,
 "nbformat_minor": 2
}
